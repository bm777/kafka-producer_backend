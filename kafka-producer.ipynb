{
 "cells": [
  {
   "cell_type": "code",
   "execution_count": 19,
   "id": "b4cf07cf",
   "metadata": {},
   "outputs": [],
   "source": [
    "from kafka import KafkaProducer\n",
    "from kafka.errors import KafkaError\n",
    "import msgpack\n",
    "import json"
   ]
  },
  {
   "cell_type": "markdown",
   "id": "e0e1f26d",
   "metadata": {},
   "source": [
    "# KafkaProducer"
   ]
  },
  {
   "cell_type": "code",
   "execution_count": 26,
   "id": "b90b5d78",
   "metadata": {},
   "outputs": [],
   "source": [
    "# create a KafkaProducer\n",
    "producer = KafkaProducer(bootstrap_servers=['localhost:9092'])"
   ]
  },
  {
   "cell_type": "markdown",
   "id": "90f3e2e4",
   "metadata": {},
   "source": [
    "# 1. Asynchronous by default\n",
    "basic sending, it works as well. just for prototyping"
   ]
  },
  {
   "cell_type": "code",
   "execution_count": 17,
   "id": "ab89d822",
   "metadata": {},
   "outputs": [],
   "source": [
    "\n",
    "future = producer.send('quick-events', b'sensor_from python')\n"
   ]
  },
  {
   "cell_type": "code",
   "execution_count": 5,
   "id": "466d38cd",
   "metadata": {},
   "outputs": [
    {
     "data": {
      "text/plain": [
       "<kafka.producer.future.FutureRecordMetadata at 0x7fe6044f2810>"
      ]
     },
     "execution_count": 5,
     "metadata": {},
     "output_type": "execute_result"
    }
   ],
   "source": [
    "future"
   ]
  },
  {
   "cell_type": "code",
   "execution_count": 7,
   "id": "19f36252",
   "metadata": {},
   "outputs": [],
   "source": [
    "# Block for 'synchronous' sends\n",
    "try:\n",
    "    record_metadata = future.get(timeout=10)\n",
    "except KafkaError:\n",
    "    # Decide what to do if produce request failed...\n",
    "    log.exception()\n",
    "    pass"
   ]
  },
  {
   "cell_type": "code",
   "execution_count": 8,
   "id": "72a22f5f",
   "metadata": {},
   "outputs": [
    {
     "name": "stdout",
     "output_type": "stream",
     "text": [
      "quick-events\n",
      "0\n",
      "9\n"
     ]
    }
   ],
   "source": [
    "# Successful result returns assigned partition and offset\n",
    "print (record_metadata.topic)\n",
    "print (record_metadata.partition)\n",
    "print (record_metadata.offset)"
   ]
  },
  {
   "cell_type": "markdown",
   "id": "1547762d",
   "metadata": {},
   "source": [
    "# 2. Produce keyed messages to enable hashed partitioning"
   ]
  },
  {
   "cell_type": "code",
   "execution_count": 16,
   "id": "263c3bb7",
   "metadata": {},
   "outputs": [
    {
     "data": {
      "text/plain": [
       "<kafka.producer.future.FutureRecordMetadata at 0x7fe6143dadd0>"
      ]
     },
     "execution_count": 16,
     "metadata": {},
     "output_type": "execute_result"
    }
   ],
   "source": [
    "\n",
    "producer.send('quick-events', key=b'foo', value=b'bar') # other way to send"
   ]
  },
  {
   "cell_type": "markdown",
   "id": "6589ad68",
   "metadata": {},
   "source": [
    "# 3. Encode objects via msgpack\n",
    "it is not showing as well in the kafka consumer. I think it is not decoded entirely"
   ]
  },
  {
   "cell_type": "code",
   "execution_count": 15,
   "id": "76421295",
   "metadata": {},
   "outputs": [
    {
     "data": {
      "text/plain": [
       "<kafka.producer.future.FutureRecordMetadata at 0x7fe60426b450>"
      ]
     },
     "execution_count": 15,
     "metadata": {},
     "output_type": "execute_result"
    }
   ],
   "source": [
    "\n",
    "producer = KafkaProducer(value_serializer=msgpack.dumps)\n",
    "producer.send('quick-events', {'key': 'value'})"
   ]
  },
  {
   "cell_type": "markdown",
   "id": "abec1c70",
   "metadata": {},
   "source": [
    "# 4. Produce json messages \n",
    "it worrked as well on kafka consumer"
   ]
  },
  {
   "cell_type": "code",
   "execution_count": 20,
   "id": "ae4eddcb",
   "metadata": {},
   "outputs": [
    {
     "data": {
      "text/plain": [
       "<kafka.producer.future.FutureRecordMetadata at 0x7fe6044ccf50>"
      ]
     },
     "execution_count": 20,
     "metadata": {},
     "output_type": "execute_result"
    }
   ],
   "source": [
    "\n",
    "producer = KafkaProducer(value_serializer=lambda m: json.dumps(m).encode('ascii'))\n",
    "producer.send('quick-events', {'key': 'value'})"
   ]
  },
  {
   "cell_type": "code",
   "execution_count": 21,
   "id": "7d9b3c06",
   "metadata": {},
   "outputs": [],
   "source": [
    "\n",
    "def on_send_success(record_metadata):\n",
    "    print(record_metadata.topic)\n",
    "    print(record_metadata.partition)\n",
    "    print(record_metadata.offset)\n",
    "\n",
    "def on_send_error(excp):\n",
    "    log.error('I am an errback', exc_info=excp)\n",
    "    # handle exception\n"
   ]
  },
  {
   "cell_type": "code",
   "execution_count": 28,
   "id": "503ca018",
   "metadata": {},
   "outputs": [
    {
     "data": {
      "text/plain": [
       "<kafka.producer.future.FutureRecordMetadata at 0x7fe5e63026d0>"
      ]
     },
     "execution_count": 28,
     "metadata": {},
     "output_type": "execute_result"
    },
    {
     "name": "stdout",
     "output_type": "stream",
     "text": [
      "quick-events\n",
      "0\n",
      "19\n"
     ]
    }
   ],
   "source": [
    "producer = KafkaProducer(bootstrap_servers=['localhost:9092'], value_serializer=lambda m: json.dumps(m).encode('ascii'))\n",
    "producer.send('quick-events', {'sensor_2': 25}).add_callback(on_send_success).add_errback(on_send_error)\n"
   ]
  },
  {
   "cell_type": "code",
   "execution_count": 29,
   "id": "e557f0cc",
   "metadata": {},
   "outputs": [
    {
     "data": {
      "text/plain": [
       "False"
      ]
     },
     "execution_count": 29,
     "metadata": {},
     "output_type": "execute_result"
    }
   ],
   "source": [
    "producer.bootstrap_connected()"
   ]
  },
  {
   "cell_type": "code",
   "execution_count": null,
   "id": "ef3d51d9",
   "metadata": {},
   "outputs": [],
   "source": []
  }
 ],
 "metadata": {
  "kernelspec": {
   "display_name": "Python 3 (ipykernel)",
   "language": "python",
   "name": "python3"
  },
  "language_info": {
   "codemirror_mode": {
    "name": "ipython",
    "version": 3
   },
   "file_extension": ".py",
   "mimetype": "text/x-python",
   "name": "python",
   "nbconvert_exporter": "python",
   "pygments_lexer": "ipython3",
   "version": "3.7.5"
  }
 },
 "nbformat": 4,
 "nbformat_minor": 5
}
