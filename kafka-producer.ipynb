{
 "cells": [
  {
   "cell_type": "code",
   "execution_count": 19,
   "id": "1388d8e6",
   "metadata": {},
   "outputs": [],
   "source": [
    "from kafka import KafkaProducer\n",
    "from kafka.errors import KafkaError\n",
    "import msgpack\n",
    "import json"
   ]
  },
  {
   "cell_type": "markdown",
   "id": "a0d6c02f",
   "metadata": {},
   "source": [
    "# KafkaProducer"
   ]
  },
  {
   "cell_type": "code",
   "execution_count": 3,
   "id": "f3f4cc9b",
   "metadata": {},
   "outputs": [],
   "source": [
    "# create a KafkaProducer\n",
    "producer = KafkaProducer(bootstrap_servers=['localhost:9092'])"
   ]
  },
  {
   "cell_type": "markdown",
   "id": "b10a63c2",
   "metadata": {},
   "source": [
    "# 1. Asynchronous by default\n",
    "basic sending, it works as well. just for prototyping"
   ]
  },
  {
   "cell_type": "code",
   "execution_count": 17,
   "id": "fd3a0cc3",
   "metadata": {},
   "outputs": [],
   "source": [
    "\n",
    "future = producer.send('quick-events', b'sensor_from python')\n"
   ]
  },
  {
   "cell_type": "code",
   "execution_count": 5,
   "id": "4418dcc7",
   "metadata": {},
   "outputs": [
    {
     "data": {
      "text/plain": [
       "<kafka.producer.future.FutureRecordMetadata at 0x7fe6044f2810>"
      ]
     },
     "execution_count": 5,
     "metadata": {},
     "output_type": "execute_result"
    }
   ],
   "source": [
    "future"
   ]
  },
  {
   "cell_type": "code",
   "execution_count": 7,
   "id": "8056fc05",
   "metadata": {},
   "outputs": [],
   "source": [
    "# Block for 'synchronous' sends\n",
    "try:\n",
    "    record_metadata = future.get(timeout=10)\n",
    "except KafkaError:\n",
    "    # Decide what to do if produce request failed...\n",
    "    log.exception()\n",
    "    pass"
   ]
  },
  {
   "cell_type": "code",
   "execution_count": 8,
   "id": "ef61ff3e",
   "metadata": {},
   "outputs": [
    {
     "name": "stdout",
     "output_type": "stream",
     "text": [
      "quick-events\n",
      "0\n",
      "9\n"
     ]
    }
   ],
   "source": [
    "# Successful result returns assigned partition and offset\n",
    "print (record_metadata.topic)\n",
    "print (record_metadata.partition)\n",
    "print (record_metadata.offset)"
   ]
  },
  {
   "cell_type": "markdown",
   "id": "bb7c3b5e",
   "metadata": {},
   "source": [
    "# 2. Produce keyed messages to enable hashed partitioning"
   ]
  },
  {
   "cell_type": "code",
   "execution_count": 16,
   "id": "9c638b05",
   "metadata": {},
   "outputs": [
    {
     "data": {
      "text/plain": [
       "<kafka.producer.future.FutureRecordMetadata at 0x7fe6143dadd0>"
      ]
     },
     "execution_count": 16,
     "metadata": {},
     "output_type": "execute_result"
    }
   ],
   "source": [
    "\n",
    "producer.send('quick-events', key=b'foo', value=b'bar') # other way to send"
   ]
  },
  {
   "cell_type": "markdown",
   "id": "4aa28d46",
   "metadata": {},
   "source": [
    "# 3. Encode objects via msgpack\n",
    "it is not showing as well in the kafka consumer. I think it is not decoded entirely"
   ]
  },
  {
   "cell_type": "code",
   "execution_count": 15,
   "id": "ff6d8026",
   "metadata": {},
   "outputs": [
    {
     "data": {
      "text/plain": [
       "<kafka.producer.future.FutureRecordMetadata at 0x7fe60426b450>"
      ]
     },
     "execution_count": 15,
     "metadata": {},
     "output_type": "execute_result"
    }
   ],
   "source": [
    "\n",
    "producer = KafkaProducer(value_serializer=msgpack.dumps)\n",
    "producer.send('quick-events', {'key': 'value'})"
   ]
  },
  {
   "cell_type": "markdown",
   "id": "8530ca62",
   "metadata": {},
   "source": [
    "# 4. Produce json messages \n",
    "it worrked as well on kafka consumer"
   ]
  },
  {
   "cell_type": "code",
   "execution_count": 20,
   "id": "94ffc2de",
   "metadata": {},
   "outputs": [
    {
     "data": {
      "text/plain": [
       "<kafka.producer.future.FutureRecordMetadata at 0x7fe6044ccf50>"
      ]
     },
     "execution_count": 20,
     "metadata": {},
     "output_type": "execute_result"
    }
   ],
   "source": [
    "\n",
    "producer = KafkaProducer(value_serializer=lambda m: json.dumps(m).encode('ascii'))\n",
    "producer.send('quick-events', {'key': 'value'})"
   ]
  },
  {
   "cell_type": "code",
   "execution_count": null,
   "id": "2df01a8f",
   "metadata": {},
   "outputs": [],
   "source": []
  }
 ],
 "metadata": {
  "kernelspec": {
   "display_name": "Python 3 (ipykernel)",
   "language": "python",
   "name": "python3"
  },
  "language_info": {
   "codemirror_mode": {
    "name": "ipython",
    "version": 3
   },
   "file_extension": ".py",
   "mimetype": "text/x-python",
   "name": "python",
   "nbconvert_exporter": "python",
   "pygments_lexer": "ipython3",
   "version": "3.7.5"
  }
 },
 "nbformat": 4,
 "nbformat_minor": 5
}
